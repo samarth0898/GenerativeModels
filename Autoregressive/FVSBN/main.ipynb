{
 "cells": [
  {
   "cell_type": "code",
   "execution_count": 2,
   "metadata": {},
   "outputs": [],
   "source": [
    "import torch\n",
    "import torch.nn as nn\n",
    "import torchvision\n",
    "import torchvision.datasets as datasets\n",
    "import torchvision.transforms as transforms\n",
    "from torch.utils.data import DataLoader"
   ]
  },
  {
   "cell_type": "code",
   "execution_count": 10,
   "metadata": {},
   "outputs": [],
   "source": [
    "import numpy as np \n",
    "import matplotlib.pyplot as plt\n",
    "\n",
    "\n",
    "if torch.cuda.is_available():\n",
    "    device = 'cuda'\n",
    "if torch.backends.mps.is_available():\n",
    "    device = 'mps'"
   ]
  },
  {
   "cell_type": "code",
   "execution_count": 13,
   "metadata": {},
   "outputs": [],
   "source": [
    "class FVSBN(nn.Module):\n",
    "    def __init__(self, n_dim = 784): \n",
    "        super(FVSBN, self).__init__()\n",
    "        self.n_dim = n_dim\n",
    "        self.linear_layers = nn.ModuleList(\n",
    "            nn.Linear(in_features = max(1,i), out_features = 1) for i in range(n_dim)\n",
    "        )\n",
    "\n",
    "    \n",
    "    def forward(self, input): \n",
    "        original_shape = input.shape\n",
    "        input = input.view(original_shape[0], -1)\n",
    "\n",
    "        output = [self.linear_layers[0](torch.zeros(original_shape[0], 1, device = device))]\n",
    "\n",
    "        for i in range(1, self.n_dim): \n",
    "            output.append(self.linear_layers[i](input[:,:i]))\n",
    "        output = torch.stack(output, axis = 1)\n",
    "        return output\n",
    "    \n",
    "    # def sample(self,)\n",
    "\n",
    "\n"
   ]
  },
  {
   "cell_type": "code",
   "execution_count": 20,
   "metadata": {},
   "outputs": [
    {
     "name": "stdout",
     "output_type": "stream",
     "text": [
      "mps\n",
      "Epoch [1/50], Loss: 4.4291\n",
      "Epoch [2/50], Loss: 2.9697\n"
     ]
    }
   ],
   "source": [
    "transform = transforms.Compose([transforms.ToTensor()])\n",
    "train_dataset = datasets.MNIST(root = './data', train = True, download = True , transform = transform)\n",
    "train_loader = DataLoader(train_dataset, batch_size = 64, shuffle = True)\n",
    "\n",
    "\n",
    "\n",
    "device = torch.device(device)\n",
    "print(device)\n",
    "\n",
    "\n",
    "model = FVSBN(784)\n",
    "model.to(device)\n",
    "\n",
    "criterion = nn.BCEWithLogitsLoss()\n",
    "optimizer = torch.optim.Adam(model.parameters(), lr=0.01)\n",
    "\n",
    "num_epochs = 50\n",
    "\n",
    "for epoch in range(num_epochs):\n",
    "    total_loss = 0.0\n",
    "    for images, _ in train_loader:\n",
    "        optimizer.zero_grad()\n",
    "        images = images.view(images.shape[0], -1)\n",
    "        images = images.to(device)\n",
    "        output = torch.squeeze(model(images))\n",
    "        output.to(device)\n",
    "        loss = criterion(output, images)\n",
    "        loss.backward()\n",
    "        optimizer.step()\n",
    "        total_loss += loss.item()\n",
    "\n",
    "    # Calculate the average loss for the epoch\n",
    "    epoch_loss = total_loss/ images.shape[0]\n",
    "    \n",
    "\n",
    "    # Print the loss for the epoch\n",
    "    print(f'Epoch [{epoch+1}/{num_epochs}], Loss: {epoch_loss:.4f}')"
   ]
  },
  {
   "cell_type": "code",
   "execution_count": 19,
   "metadata": {},
   "outputs": [
    {
     "data": {
      "image/png": "[encoded data removed]",
      "text/plain": [
       "<Figure size 100x100 with 1 Axes>"
      ]
     },
     "metadata": {},
     "output_type": "display_data"
    }
   ],
   "source": [
    "new_image = model.sample(0.3,784)\n",
    "image_2d = new_image.view(28,28)\n",
    "img = image_2d.cpu().detach().numpy()\n",
    "plt.figure(figsize=(1, 1))\n",
    "plt.imshow(img, cmap = 'gray')\n",
    "plt.axis('off')  # Turn off axis\n",
    "plt.show()"
   ]
  },
  {
   "cell_type": "code",
   "execution_count": null,
   "metadata": {},
   "outputs": [],
   "source": []
  },
  {
   "cell_type": "code",
   "execution_count": null,
   "metadata": {},
   "outputs": [],
   "source": []
  }
 ],
 "metadata": {
  "kernelspec": {
   "display_name": "pytorch",
   "language": "python",
   "name": "python3"
  },
  "language_info": {
   "codemirror_mode": {
    "name": "ipython",
    "version": 3
   },
   "file_extension": ".py",
   "mimetype": "text/x-python",
   "name": "python",
   "nbconvert_exporter": "python",
   "pygments_lexer": "ipython3",
   "version": "3.11.0"
  }
 },
 "nbformat": 4,
 "nbformat_minor": 2
}
